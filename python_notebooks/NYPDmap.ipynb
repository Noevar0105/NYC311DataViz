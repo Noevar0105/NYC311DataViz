{
 "cells": [
  {
   "cell_type": "code",
   "execution_count": 38,
   "metadata": {
    "collapsed": false
   },
   "outputs": [
    {
     "name": "stdout",
     "output_type": "stream",
     "text": [
      "Connection successful.\n",
      "Successfully obtained coordinates.\n",
      "Inserting points.\n",
      "Saved map.\n"
     ]
    }
   ],
   "source": [
    "import folium\n",
    "import pandas as pd\n",
    "from pymongo import MongoClient\n",
    "# from IPython.display import display\n",
    "\n",
    "\n",
    "# Connect to database\n",
    "try:\n",
    "    client = MongoClient('mongodb://localhost:27017/')\n",
    "    print('Connection successful.')\n",
    "except:\n",
    "    print('Could not connect to MongoDB')\n",
    "    exit()\n",
    "\n",
    "db = client.requests  # Database\n",
    "collection = db.sr    # Collection within database\n",
    "projection = {'_id': False, 'Latitude': True, 'Longitude': True, 'Agency': True}  # Properties we want.\n",
    "\n",
    "# Get the first 'n' coordinates where the responding agency is the NYPD\n",
    "n = 50\n",
    "coordinates = collection.find({'Agency': 'NYPD'}, projection)[:n]\n",
    "print('Successfully obtained coordinates.')\n",
    "\n",
    "hc_coords = (40.768890, -73.964789)\n",
    "\n",
    "# Create empty map zoomed in on Hunter College\n",
    "map_1 = folium.Map(location=hc_coords, zoom_start=12, tiles='Stamen Terrain')\n",
    "\n",
    "print('Inserting points.')\n",
    "for each in coordinates:\n",
    "    if each['Latitude'] and each['Longitude']:\n",
    "        folium.CircleMarker([each['Latitude'], each['Longitude']],\n",
    "                            radius=1).add_to(map_1)\n",
    "\n",
    "map_1.save('map1.html')\n",
    "print('Saved map.')"
   ]
  },
  {
   "cell_type": "code",
   "execution_count": null,
   "metadata": {
    "collapsed": true
   },
   "outputs": [],
   "source": []
  }
 ],
 "metadata": {
  "kernelspec": {
   "display_name": "Python 3",
   "language": "python",
   "name": "python3"
  },
  "language_info": {
   "codemirror_mode": {
    "name": "ipython",
    "version": 3
   },
   "file_extension": ".py",
   "mimetype": "text/x-python",
   "name": "python",
   "nbconvert_exporter": "python",
   "pygments_lexer": "ipython3",
   "version": "3.5.2"
  }
 },
 "nbformat": 4,
 "nbformat_minor": 1
}
